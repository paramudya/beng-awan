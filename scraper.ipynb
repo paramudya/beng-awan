{
 "cells": [
  {
   "cell_type": "code",
   "execution_count": 101,
   "metadata": {},
   "outputs": [],
   "source": [
    "import requests\n",
    "from bs4 import BeautifulSoup\n",
    "import pandas as pd\n",
    "import numpy as np"
   ]
  },
  {
   "cell_type": "code",
   "execution_count": 102,
   "metadata": {},
   "outputs": [
    {
     "name": "stdout",
     "output_type": "stream",
     "text": [
      "LOLOSSS!\n"
     ]
    }
   ],
   "source": [
    "URL = \"https://booking.kai.id/search?origination=u%2FdpZtuBY%2FMLjHWA6HQQyQ%3D%3D&destination=niaOzwDtEN%2B0isrzPdZtsg%3D%3D&tanggal=oQ7Kp43w21OuuPymVZs74elFtXmv%2FcOltT%2Bqy7fdmgQ%3D&adult=MnFy%2BP2MvzZq0fSHyM16Vw%3D%3D&infant=E%2FKDC%2BSur3Kyls7NptMgcg%3D%3D&book_type=\"\n",
    "page = requests.get(URL)\n",
    "soup = BeautifulSoup(page.content, \"html.parser\")\n",
    "title=soup.find_all('title', limit=1)[0].string\n",
    "\n",
    "if not title.lower() == 'waiting page': #bikin komponen\n",
    "    print('LOLOSSS!')\n",
    "else: print('nunggu')"
   ]
  },
  {
   "cell_type": "code",
   "execution_count": 119,
   "metadata": {},
   "outputs": [
    {
     "ename": "Error",
     "evalue": "Incorrect padding",
     "output_type": "error",
     "traceback": [
      "\u001b[1;31m---------------------------------------------------------------------------\u001b[0m",
      "\u001b[1;31mError\u001b[0m                                     Traceback (most recent call last)",
      "Cell \u001b[1;32mIn[119], line 5\u001b[0m\n\u001b[0;32m      1\u001b[0m \u001b[38;5;28;01mimport\u001b[39;00m \u001b[38;5;21;01mbase64\u001b[39;00m\n\u001b[0;32m      3\u001b[0m encoded_string \u001b[38;5;241m=\u001b[39m \u001b[38;5;124m\"\u001b[39m\u001b[38;5;124me7Y7YPGBpWVGlGBW4QxRHA\u001b[39m\u001b[38;5;124m\"\u001b[39m\n\u001b[1;32m----> 5\u001b[0m decoded_bytes \u001b[38;5;241m=\u001b[39m \u001b[43mbase64\u001b[49m\u001b[38;5;241;43m.\u001b[39;49m\u001b[43mb64decode\u001b[49m\u001b[43m(\u001b[49m\u001b[43mencoded_string\u001b[49m\u001b[43m)\u001b[49m\n\u001b[0;32m      6\u001b[0m decoded_string \u001b[38;5;241m=\u001b[39m decoded_bytes\u001b[38;5;241m.\u001b[39mdecode(\u001b[38;5;124m'\u001b[39m\u001b[38;5;124mutf-8\u001b[39m\u001b[38;5;124m'\u001b[39m)\n\u001b[0;32m      8\u001b[0m \u001b[38;5;28mprint\u001b[39m(\u001b[38;5;124m\"\u001b[39m\u001b[38;5;124mDecoded string:\u001b[39m\u001b[38;5;124m\"\u001b[39m, decoded_string)\n",
      "File \u001b[1;32mc:\\Users\\61668\\AppData\\Local\\Programs\\Python\\Python311\\Lib\\base64.py:88\u001b[0m, in \u001b[0;36mb64decode\u001b[1;34m(s, altchars, validate)\u001b[0m\n\u001b[0;32m     86\u001b[0m     \u001b[38;5;28;01massert\u001b[39;00m \u001b[38;5;28mlen\u001b[39m(altchars) \u001b[38;5;241m==\u001b[39m \u001b[38;5;241m2\u001b[39m, \u001b[38;5;28mrepr\u001b[39m(altchars)\n\u001b[0;32m     87\u001b[0m     s \u001b[38;5;241m=\u001b[39m s\u001b[38;5;241m.\u001b[39mtranslate(\u001b[38;5;28mbytes\u001b[39m\u001b[38;5;241m.\u001b[39mmaketrans(altchars, \u001b[38;5;124mb\u001b[39m\u001b[38;5;124m'\u001b[39m\u001b[38;5;124m+/\u001b[39m\u001b[38;5;124m'\u001b[39m))\n\u001b[1;32m---> 88\u001b[0m \u001b[38;5;28;01mreturn\u001b[39;00m \u001b[43mbinascii\u001b[49m\u001b[38;5;241;43m.\u001b[39;49m\u001b[43ma2b_base64\u001b[49m\u001b[43m(\u001b[49m\u001b[43ms\u001b[49m\u001b[43m,\u001b[49m\u001b[43m \u001b[49m\u001b[43mstrict_mode\u001b[49m\u001b[38;5;241;43m=\u001b[39;49m\u001b[43mvalidate\u001b[49m\u001b[43m)\u001b[49m\n",
      "\u001b[1;31mError\u001b[0m: Incorrect padding"
     ]
    }
   ],
   "source": [
    "import base64\n",
    "\n",
    "encoded_string = \"e7Y7YPGBpWVGlGBW4QxRHA\"\n",
    "\n",
    "decoded_bytes = base64.b64decode(encoded_string)\n",
    "decoded_string = decoded_bytes.decode('utf-8')\n",
    "\n",
    "print(\"Decoded string:\", decoded_string)"
   ]
  },
  {
   "cell_type": "code",
   "execution_count": 117,
   "metadata": {},
   "outputs": [
    {
     "ename": "UnicodeDecodeError",
     "evalue": "'utf-8' codec can't decode byte 0xa1 in position 0: invalid start byte",
     "output_type": "error",
     "traceback": [
      "\u001b[1;31m---------------------------------------------------------------------------\u001b[0m",
      "\u001b[1;31mUnicodeDecodeError\u001b[0m                        Traceback (most recent call last)",
      "Cell \u001b[1;32mIn[117], line 8\u001b[0m\n\u001b[0;32m      6\u001b[0m \u001b[38;5;66;03m# Decode Base64\u001b[39;00m\n\u001b[0;32m      7\u001b[0m decoded_bytes \u001b[38;5;241m=\u001b[39m base64\u001b[38;5;241m.\u001b[39mb64decode(encoded_string)\n\u001b[1;32m----> 8\u001b[0m decoded_string \u001b[38;5;241m=\u001b[39m \u001b[43mdecoded_bytes\u001b[49m\u001b[38;5;241;43m.\u001b[39;49m\u001b[43mdecode\u001b[49m\u001b[43m(\u001b[49m\u001b[38;5;124;43m'\u001b[39;49m\u001b[38;5;124;43mutf-8\u001b[39;49m\u001b[38;5;124;43m'\u001b[39;49m\u001b[43m)\u001b[49m\n\u001b[0;32m     10\u001b[0m \u001b[38;5;66;03m# Convert to datetime\u001b[39;00m\n\u001b[0;32m     11\u001b[0m \u001b[38;5;28;01mtry\u001b[39;00m:\n",
      "\u001b[1;31mUnicodeDecodeError\u001b[0m: 'utf-8' codec can't decode byte 0xa1 in position 0: invalid start byte"
     ]
    }
   ],
   "source": [
    "import base64\n",
    "from datetime import datetime\n",
    "\n",
    "encoded_string = '''oQ7Kp43w21OuuPymVZs74elFtXmv'''\n",
    "https://booking.kai.id/search?origination=WS%2B4tjcZopSi16ZFaFo0kg%3D%3D&destination=e7Y7YPGBpWVGlGBW4QxRHA%3D%3D&tanggal=Re2GaPmy7UP2hqmoYo%2FbdMMpovn%2Bmu9wLQ8lEeuVBx8%3D&adult=xbLcmhNVqnRWEzKcbarJ9A%3D%3D&infant=wY8m0%2FqUySruRyzAYrmW1A%3D%3D&book_type=\n",
    "# Decode Base64\n",
    "decoded_bytes = base64.b64decode(encoded_string)\n",
    "decoded_string = decoded_bytes.decode('utf-8')\n",
    "\n",
    "# Convert to datetime\n",
    "try:\n",
    "    dt = datetime.fromisoformat(decoded_string)\n",
    "    print(\"Decoded datetime:\", dt)\n",
    "except ValueError as e:\n",
    "    print(\"Error decoding datetime:\", e)"
   ]
  },
  {
   "cell_type": "code",
   "execution_count": 111,
   "metadata": {},
   "outputs": [],
   "source": [
    "train_name = 'BENGAWAN'\n",
    "train_elements = soup.find_all('div', class_='name')\n",
    "df=pd.DataFrame()\n",
    "access_time=str(datetime.now())[:19]\n",
    "# Print the relevant information for each matching element\n",
    "for element in train_elements:\n",
    "    # if train_name in element.text:\n",
    "        # print(element.find_next(class_='station-start'))\n",
    "        # Extract information for each train card\n",
    "        train_info = pd.DataFrame({\n",
    "            'Name': element.text.strip(),\n",
    "            'Class': element.find_next(class_='{kelas kereta}').text.strip(),\n",
    "            'Departure Station': element.find_next(class_='station-start').text.strip(),\n",
    "            'Departure Time': element.find_next(class_='time-start').text.strip(),\n",
    "            'Arrival Station': element.find_next(class_='station-end').text.strip(),\n",
    "            'Arrival Time': element.find_next(class_='time-end').text.strip(),\n",
    "            'Price': element.find_next(class_='price').text.strip(),\n",
    "            'Available Seats': element.find_next(class_='sisa-kursi').text.strip()\n",
    "        }, index=[0])\n",
    "        df=pd.concat([df,train_info])"
   ]
  },
  {
   "cell_type": "code",
   "execution_count": 114,
   "metadata": {},
   "outputs": [
    {
     "name": "stdout",
     "output_type": "stream",
     "text": [
      "accessed on: 2023-12-27 17:53:40 \n",
      " Name                 BENGAWAN (246)\n",
      "Class                   Ekonomi (C)\n",
      "Departure Station        PASARSENEN\n",
      "Departure Time                06:00\n",
      "Arrival Station         LEMPUYANGAN\n",
      "Arrival Time                  14:25\n",
      "Price                   Rp 74.000,-\n",
      "Available Seats               Habis\n",
      "Price in Rp                   74000\n",
      "Availability                      0\n",
      "Name: 0, dtype: object\n"
     ]
    }
   ],
   "source": [
    "df['Price in Rp']=df['Price'].str[3:-2].str.replace('.','')\n",
    "df['Availability']=np.where(df['Available Seats']=='Habis', '0',\n",
    "                    np.where(df['Available Seats'].str[:7]=='Tersisa',\n",
    "                             df['Available Seats'].str[8:10].str.strip(),\n",
    "                             df['Available Seats']\n",
    "                              )\n",
    "                             )\n",
    "\n",
    "for i,row in df[df['Name'].str[:8]=='BENGAWAN'].iterrows():\n",
    "    print('accessed on:',access_time,'\\n',row)    \n",
    "    if row['Availability']>'0':\n",
    "        print('TERSEDIA. KIRIM NOTIF di sini')                \n"
   ]
  }
 ],
 "metadata": {
  "kernelspec": {
   "display_name": "Python 3",
   "language": "python",
   "name": "python3"
  },
  "language_info": {
   "codemirror_mode": {
    "name": "ipython",
    "version": 3
   },
   "file_extension": ".py",
   "mimetype": "text/x-python",
   "name": "python",
   "nbconvert_exporter": "python",
   "pygments_lexer": "ipython3",
   "version": "3.11.0"
  }
 },
 "nbformat": 4,
 "nbformat_minor": 2
}
